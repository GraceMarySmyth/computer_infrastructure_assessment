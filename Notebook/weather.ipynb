{
 "cells": [
  {
   "cell_type": "markdown",
   "metadata": {},
   "source": [
    "### Weather Notebook\n",
    "\n",
    "This is the notebook for the assessment for Computer Infrastructure\n",
    "\n",
    "# Author: Grace Mary Smyth\n",
    "\n",
    "# Lecturer: Ian McLoughlin"
   ]
  },
  {
   "cell_type": "markdown",
   "metadata": {},
   "source": [
    "## Purpose\n",
    "The purpose of the assessment is for you to demonstrate ability in the following.\n",
    "\n",
    "Use, configure, and script in a command line interface environment.\n",
    "\n",
    "Manipulate and move data and code using the command line.\n",
    "\n",
    "Compare commonly available software infrastructures and architectures.\n",
    "\n",
    "Select appropriate infrastructure for a given computational task.\n",
    "\n",
    "The assessment consists of three overlapping parts: a GitHub repository containing all your work (20%), a series of tasks (40%), and a small project (40%).\n",
    "\n",
    "https://github.com/ianmcloughlin/2425_computer_infrastructure"
   ]
  },
  {
   "cell_type": "markdown",
   "metadata": {},
   "source": [
    "## Repository (20%)\n",
    "\n",
    "A repositry was created on Github called computer_infrastructure_assessment. This repositry contains all the elements that was requested by the assessment outline. \n",
    "\n",
    "I first included a .gitignore file. In this I included files to ignore. In this I added the python, macOS and windows gitignore from the gitignore templates on github. \n",
    "\n",
    "A README.md was added"
   ]
  },
  {
   "cell_type": "markdown",
   "metadata": {},
   "source": [
    "## Task 1\n",
    "A directory structure was creaded using the command line. A folder/directory called data was created. Inside data two sub directories were created: timestamps and weather. This was completed using the mkdir command on the command line"
   ]
  },
  {
   "cell_type": "markdown",
   "metadata": {},
   "source": [
    "## Task 2\n",
    "Using the date command on the command line, I outputted the current date and time. Then typing date>>now.txt I outputted the current date and time to the now.txt folder "
   ]
  },
  {
   "cell_type": "markdown",
   "metadata": {},
   "source": [
    "## Task 3\n",
    "In this section I formatted timestamps. This is paticularly useful if using the datestamp as a file name. This makes it easier for the computer to read. When using the datestamp as a file name dont use / or: as these characters can be used as commands on the command line. For this section I inputted date +\"%Y%m%d_%H%M%S\" This outputted the date in the following format YYYYMMDD_HHMMSS. "
   ]
  },
  {
   "cell_type": "markdown",
   "metadata": {},
   "source": [
    "## Index of commands used on the command line\n",
    "\n",
    "pwd : present working directory\n",
    "cd  : change directory\n",
    "..  : move to parent folder\n",
    "ls  : list files in current folder\n",
    "ll  : long list in folder/directory\n",
    "clear: Clear screen\n",
    ">>   : redirects command to another file location. APPENDS FILE. Does not overwrite\n",
    ">    : OVERWRITES FILE! use with caution. cannot be undone\n",
    "<    : Sends the contents of the file to the programme\n",
    "cat  : Concatenate. Read and display the contents of the file\n",
    "CTRL D : sends an end of file message\n",
    "CTRL C  : Kills the command\n",
    "|     : (vertical line) called pipe. used to pipe or transfer the output from       the command on its left intot he standard input of the command on its right\n",
    "grep  : looks for and matches text patterns within files"
   ]
  },
  {
   "cell_type": "markdown",
   "metadata": {},
   "source": [
    "## References:\n",
    "\n",
    "https://github.com/ianmcloughlin/2425_computer_infrastructure\n",
    "\n",
    "https://www.ibm.com/docs/en/aix/7.3?topic=directories-creating-mkdir-command\n",
    "\n",
    "https://www.hostinger.com/tutorials/linux-commands?utm_campaign=Generic-Tutorials-DSA|NT:Se|LO:Other-EU&utm_medium=ppc&gad_source=1&gclid=Cj0KCQiAi_G5BhDXARIsAN5SX7oV8YyiZMWVi6Bm-P2IaQ6n6OCLxsFQ_EDxyvKcJ_trvSC-qPB9OHoaAqfmEALw_wcB\n",
    "\n",
    "https://www.geeksforgeeks.org/linux-commands-cheat-sheet/"
   ]
  }
 ],
 "metadata": {
  "language_info": {
   "name": "python"
  }
 },
 "nbformat": 4,
 "nbformat_minor": 2
}
