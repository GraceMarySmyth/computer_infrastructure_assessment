{
 "cells": [
  {
   "cell_type": "markdown",
   "metadata": {},
   "source": [
    "### Weather Notebook\n",
    "\n",
    "This is the notebook for the assessment for Computer Infrastructure\n",
    "\n",
    "# Author: Grace Mary Smyth\n",
    "\n",
    "# Lecturer: Ian McLoughlin"
   ]
  },
  {
   "cell_type": "markdown",
   "metadata": {},
   "source": [
    "## Purpose\n",
    "The purpose of the assessment is for you to demonstrate ability in the following.\n",
    "\n",
    "Use, configure, and script in a command line interface environment.\n",
    "\n",
    "Manipulate and move data and code using the command line.\n",
    "\n",
    "Compare commonly available software infrastructures and architectures.\n",
    "\n",
    "Select appropriate infrastructure for a given computational task.\n",
    "\n",
    "The assessment consists of three overlapping parts: a GitHub repository containing all your work (20%), a series of tasks (40%), and a small project (40%).\n",
    "\n",
    "https://github.com/ianmcloughlin/2425_computer_infrastructure"
   ]
  },
  {
   "cell_type": "markdown",
   "metadata": {},
   "source": [
    "## Repository (20%)\n",
    "\n",
    "A repositry was created on Github called computer_infrastructure_assessment. This repositry contains all the elements that was requested by the assessment outline. \n",
    "\n",
    "I first included a .gitignore file. In this I included files to ignore. In this I added the python, macOS and windows gitignore from the gitignore templates on github. \n",
    "\n",
    "A README.md was added"
   ]
  },
  {
   "cell_type": "markdown",
   "metadata": {},
   "source": [
    "## Task 1\n",
    "A directory structure was creaded using the command line. A folder/directory called data was created. Inside data two sub directories were created: timestamps and weather. This was completed using the mkdir command on the command line"
   ]
  },
  {
   "cell_type": "markdown",
   "metadata": {},
   "source": [
    "## Task 2\n",
    "Using the date command on the command line, I outputted the current date and time. Then typing date>>now.txt I outputted the current date and time to the now.txt folder "
   ]
  },
  {
   "cell_type": "markdown",
   "metadata": {},
   "source": [
    "## Task 3\n",
    "In this section I formatted timestamps. This is paticularly useful if using the datestamp as a file name. This makes it easier for the computer to read. When using the datestamp as a file name dont use / or: as these characters can be used as commands on the command line. For this section I inputted on the command line date +\"%Y%m%d_%H%M%S\" This outputted the date in the following format YYYYMMDD_HHMMSS. By running date +\"%Y%m%d_%H%M%S\">>formatted.txt I committed the output to a new file called formatted.txt. "
   ]
  },
  {
   "cell_type": "markdown",
   "metadata": {},
   "source": [
    "## Task 4\n",
    "\n",
    "For this task I no longer used the >> or > command. I created an empty file using the touch command. But as I required it to be called the date at the time I embedded the date command into the touch command using ` (backticks).  \n",
    "\n",
    "On the command line:\n",
    " touch `date +\"%Y%m%d_%H%M%S.txt\"`. This gave me an empty text file called 20241127_100403.txt. "
   ]
  },
  {
   "cell_type": "markdown",
   "metadata": {},
   "source": [
    "## Task 5\n",
    "This task involved downloading the weather data for the Athenry weather station from Met Eireann. The URL specified by the assignment is:\n",
    "https://prodapi.metweb.ie/observations/athenry/today\n",
    "\n",
    "Firstly I navigated to the data folder and then the weather folder using the cd command. The weather folder was empty. This was assessed by using the ls command. Using the wget command and the URL the weather from the Athenry weather station was saved as a JSON file in the weather folder under \"today\" (Note: When copy and pasting from the URL in the assignment it added the full stop. I didnt identify initially and got a 404 Not found error code). \"Today\" is not a good/useful name for a file. It makes it difficult if requesting the same information regularly which we will want further in the assignment. It would make more sense to download the data with a timestamp. This would make the files easier to identify. \n",
    "\n",
    "On the command line:\n",
    "wget https://prodapi.metweb.ie/observations/athenry/today \n",
    "```\n",
    "\n",
    "\n",
    "\n"
   ]
  },
  {
   "cell_type": "markdown",
   "metadata": {},
   "source": [
    "## Task 6\n",
    "As identified in Task 5 the file I requested saves into the weather folder/directory as \"Today\" which if we are requesting data regularly is not a useful filename. This task is to modify Task 5 and save as a timestamped name. ie combine Task 5 with Task 3. This can be done with -0 (as per the manual page for wget) and imbeddding the date command using `(backticks)\n",
    "\n",
    "On the command line: \n",
    "```wget -O `date +\"%Y%m%d_%H%M%D.json\"` https://prodapi.metweb.ie/observations/athenry/today\n",
    "```\n",
    "At this point I cleanned up my repository using rm to remove unwanted files. I renamed a file by using ren oldfilename newfilename."
   ]
  },
  {
   "cell_type": "markdown",
   "metadata": {},
   "source": [
    "## Task 7\n",
    "Automating Task 6 \n",
    "\n",
    "In the root of the repository I added a file called weather.sh. The sh stands for shell. On the first line I inputted \n",
    "#! /bin/bash\n",
    "This tells the programme to run this on the command line environment\n",
    "\n",
    "\n",
    "```date\n",
    "echo \"Downloading weather data...\"\n",
    "wget -O data/weather/$(date +\"%Y%m%d_%H%M%S\").json https://prodapi.metweb.ie/observations/athenry/today\n",
    "echo \"Weather data downloaded.\"\n",
    "date\n",
    "```\n",
    "this saves the output to the correct folder and also gives a nice output on the command line "
   ]
  },
  {
   "cell_type": "markdown",
   "metadata": {},
   "source": [
    "## Task 8\n",
    "This Notebook"
   ]
  },
  {
   "cell_type": "markdown",
   "metadata": {},
   "source": [
    "## Task 9\n",
    "\n",
    "Task 9 is in this notebook, use the  pandas function read_json() to load in any of the weather files downloaded previously. Examine and summarize the data. Use the information provided data.gov.ie to write a short explanation of what the data set contains. "
   ]
  },
  {
   "cell_type": "markdown",
   "metadata": {},
   "source": [
    "Firstly, import librarys."
   ]
  },
  {
   "cell_type": "code",
   "execution_count": 2,
   "metadata": {},
   "outputs": [],
   "source": [
    "import os\n",
    "import pandas as pd\n",
    "import numpy as np\n",
    "import matplotlib.pyplot as plt\n",
    "import seaborn as sns\n",
    "import json\n"
   ]
  },
  {
   "cell_type": "markdown",
   "metadata": {},
   "source": [
    "load the weather data"
   ]
  },
  {
   "cell_type": "code",
   "execution_count": 3,
   "metadata": {},
   "outputs": [
    {
     "name": "stdout",
     "output_type": "stream",
     "text": [
      "Loaded file: 20241129_141156.json\n"
     ]
    }
   ],
   "source": [
    "# List all files in the directory\n",
    "files = os.listdir('/workspaces/computer_infrastructure_assessment/data/weather')\n",
    "\n",
    "# Filter out JSON files\n",
    "json_files = [file for file in files if file.endswith('.json')]\n",
    "\n",
    "# Check if there are any JSON files\n",
    "if json_files:\n",
    "\t# Load the first JSON file found\n",
    "\twith open(f\"/workspaces/computer_infrastructure_assessment/data/weather/{json_files[0]}\", \"r\") as f:\n",
    "\t\tdata = json.load(f)\n",
    "\tprint(f\"Loaded file: {json_files[0]}\")\n",
    "else:\n",
    "\tprint(\"No JSON files found in the directory.\")"
   ]
  },
  {
   "cell_type": "markdown",
   "metadata": {},
   "source": [
    "## Examining the data"
   ]
  },
  {
   "cell_type": "code",
   "execution_count": 4,
   "metadata": {},
   "outputs": [
    {
     "name": "stdout",
     "output_type": "stream",
     "text": [
      "[{'name': 'Athenry', 'temperature': '13', 'symbol': '02n', 'weatherDescription': 'Fair', 'text': '\"Fair\"', 'windSpeed': '19', 'windGust': '46', 'cardinalWindDirection': 'S', 'windDirection': 180, 'humidity': ' 77 ', 'rainfall': ' 0.0 ', 'pressure': '1014', 'dayName': 'Friday', 'date': '29-11-2024', 'reportTime': '00:00'}, {'name': 'Athenry', 'temperature': '13', 'symbol': '02n', 'weatherDescription': 'Fair', 'text': '\"Fair\"', 'windSpeed': '30', 'windGust': '-', 'cardinalWindDirection': 'S', 'windDirection': 180, 'humidity': ' 80 ', 'rainfall': ' 0.0 ', 'pressure': '1013', 'dayName': 'Friday', 'date': '29-11-2024', 'reportTime': '01:00'}, {'name': 'Athenry', 'temperature': '13', 'symbol': '04n', 'weatherDescription': 'Cloudy', 'text': '\"Cloudy\"', 'windSpeed': '24', 'windGust': '43', 'cardinalWindDirection': 'S', 'windDirection': 180, 'humidity': ' 81 ', 'rainfall': ' 0.0 ', 'pressure': '1013', 'dayName': 'Friday', 'date': '29-11-2024', 'reportTime': '02:00'}, {'name': 'Athenry', 'temperature': '13', 'symbol': '04n', 'weatherDescription': 'Cloudy', 'text': '\"Cloudy\"', 'windSpeed': '24', 'windGust': '46', 'cardinalWindDirection': 'S', 'windDirection': 180, 'humidity': ' 80 ', 'rainfall': ' 0.0 ', 'pressure': '1013', 'dayName': 'Friday', 'date': '29-11-2024', 'reportTime': '03:00'}, {'name': 'Athenry', 'temperature': '13', 'symbol': '04n', 'weatherDescription': 'Cloudy', 'text': '\"Cloudy\"', 'windSpeed': '28', 'windGust': '56', 'cardinalWindDirection': 'S', 'windDirection': 180, 'humidity': ' 79 ', 'rainfall': ' 0.0 ', 'pressure': '1013', 'dayName': 'Friday', 'date': '29-11-2024', 'reportTime': '04:00'}, {'name': 'Athenry', 'temperature': '13', 'symbol': '04n', 'weatherDescription': 'Cloudy', 'text': '\"Cloudy\"', 'windSpeed': '24', 'windGust': '43', 'cardinalWindDirection': 'S', 'windDirection': 180, 'humidity': ' 80 ', 'rainfall': ' 0.0 ', 'pressure': '1012', 'dayName': 'Friday', 'date': '29-11-2024', 'reportTime': '05:00'}, {'name': 'Athenry', 'temperature': '13', 'symbol': '04n', 'weatherDescription': 'Cloudy', 'text': '\"Cloudy\"', 'windSpeed': '22', 'windGust': '44', 'cardinalWindDirection': 'S', 'windDirection': 180, 'humidity': ' 79 ', 'rainfall': ' 0.0 ', 'pressure': '1012', 'dayName': 'Friday', 'date': '29-11-2024', 'reportTime': '06:00'}, {'name': 'Athenry', 'temperature': '13', 'symbol': '04n', 'weatherDescription': 'Cloudy', 'text': '\"Cloudy\"', 'windSpeed': '22', 'windGust': '46', 'cardinalWindDirection': 'S', 'windDirection': 180, 'humidity': ' 79 ', 'rainfall': ' 0.0 ', 'pressure': '1011', 'dayName': 'Friday', 'date': '29-11-2024', 'reportTime': '07:00'}, {'name': 'Athenry', 'temperature': '13', 'symbol': '04d', 'weatherDescription': 'Cloudy', 'text': '\"Cloudy\"', 'windSpeed': '24', 'windGust': '-', 'cardinalWindDirection': 'SE', 'windDirection': 135, 'humidity': ' 81 ', 'rainfall': ' 0.0 ', 'pressure': '1011', 'dayName': 'Friday', 'date': '29-11-2024', 'reportTime': '08:00'}, {'name': 'Athenry', 'temperature': '13', 'symbol': '05d', 'weatherDescription': 'Rain showers', 'text': '\"Rain shower\"', 'windSpeed': '20', 'windGust': '-', 'cardinalWindDirection': 'SE', 'windDirection': 135, 'humidity': ' 89 ', 'rainfall': ' 0.2 ', 'pressure': '1011', 'dayName': 'Friday', 'date': '29-11-2024', 'reportTime': '09:00'}, {'name': 'Athenry', 'temperature': '12', 'symbol': '46d', 'weatherDescription': 'Light rain ', 'text': '\"Moderate Drizzle \"', 'windSpeed': '19', 'windGust': '-', 'cardinalWindDirection': 'SE', 'windDirection': 135, 'humidity': ' 91 ', 'rainfall': ' 0.3 ', 'pressure': '1010', 'dayName': 'Friday', 'date': '29-11-2024', 'reportTime': '10:00'}, {'name': 'Athenry', 'temperature': '13', 'symbol': '46d', 'weatherDescription': 'Light rain ', 'text': '\"Light rain \"', 'windSpeed': '22', 'windGust': '-', 'cardinalWindDirection': 'SE', 'windDirection': 135, 'humidity': ' 92 ', 'rainfall': ' 0.7 ', 'pressure': '1010', 'dayName': 'Friday', 'date': '29-11-2024', 'reportTime': '11:00'}, {'name': 'Athenry', 'temperature': '13', 'symbol': '46d', 'weatherDescription': 'Light rain ', 'text': '\"Light rain \"', 'windSpeed': '19', 'windGust': '-', 'cardinalWindDirection': 'SE', 'windDirection': 135, 'humidity': ' 95 ', 'rainfall': ' 1.2 ', 'pressure': '1009', 'dayName': 'Friday', 'date': '29-11-2024', 'reportTime': '12:00'}, {'name': 'Athenry', 'temperature': '14', 'symbol': '46d', 'weatherDescription': 'Light rain ', 'text': '\"Recent Drizzle \"', 'windSpeed': '22', 'windGust': '-', 'cardinalWindDirection': 'S', 'windDirection': 180, 'humidity': ' 90 ', 'rainfall': ' 0.01 ', 'pressure': '1009', 'dayName': 'Friday', 'date': '29-11-2024', 'reportTime': '13:00'}]\n"
     ]
    }
   ],
   "source": [
    "print(data)"
   ]
  },
  {
   "cell_type": "code",
   "execution_count": 6,
   "metadata": {},
   "outputs": [
    {
     "name": "stdout",
     "output_type": "stream",
     "text": [
      "<class 'list'>\n"
     ]
    }
   ],
   "source": [
    "print(type(data))"
   ]
  },
  {
   "cell_type": "markdown",
   "metadata": {},
   "source": [
    "First convert the list to a pandas DataFrame then print the info of the DataFrame"
   ]
  },
  {
   "cell_type": "code",
   "execution_count": 8,
   "metadata": {},
   "outputs": [
    {
     "name": "stdout",
     "output_type": "stream",
     "text": [
      "<class 'pandas.core.frame.DataFrame'>\n",
      "RangeIndex: 14 entries, 0 to 13\n",
      "Data columns (total 15 columns):\n",
      " #   Column                 Non-Null Count  Dtype \n",
      "---  ------                 --------------  ----- \n",
      " 0   name                   14 non-null     object\n",
      " 1   temperature            14 non-null     object\n",
      " 2   symbol                 14 non-null     object\n",
      " 3   weatherDescription     14 non-null     object\n",
      " 4   text                   14 non-null     object\n",
      " 5   windSpeed              14 non-null     object\n",
      " 6   windGust               14 non-null     object\n",
      " 7   cardinalWindDirection  14 non-null     object\n",
      " 8   windDirection          14 non-null     int64 \n",
      " 9   humidity               14 non-null     object\n",
      " 10  rainfall               14 non-null     object\n",
      " 11  pressure               14 non-null     object\n",
      " 12  dayName                14 non-null     object\n",
      " 13  date                   14 non-null     object\n",
      " 14  reportTime             14 non-null     object\n",
      "dtypes: int64(1), object(14)\n",
      "memory usage: 1.8+ KB\n",
      "None\n"
     ]
    }
   ],
   "source": [
    "# Convert the list to a pandas DataFrame\n",
    "df = pd.DataFrame(data)\n",
    "\n",
    "# Print the info of the DataFrame\n",
    "print(df.info())"
   ]
  },
  {
   "cell_type": "markdown",
   "metadata": {},
   "source": [
    "There are 14 entries in the DataFrame 0-13 (15 columns). This Dataframe looks at weather on a given day and time (Updated hourly) under the following parameters: <class 'pandas.core.frame.DataFrame'>\n",
    "RangeIndex: 14 entries, 0 to 13\n",
    "Data columns (total 15 columns):\n",
    " #   Column                 Non-Null Count  Dtype \n",
    "---  ------                 --------------  ----- \n",
    " 0   name                   14 non-null     object\n",
    " 1   temperature            14 non-null     object\n",
    " 2   symbol                 14 non-null     object\n",
    " 3   weatherDescription     14 non-null     object\n",
    " 4   text                   14 non-null     object\n",
    " 5   windSpeed              14 non-null     object\n",
    " 6   windGust               14 non-null     object\n",
    " 7   cardinalWindDirection  14 non-null     object\n",
    " 8   windDirection          14 non-null     int64 \n",
    " 9   humidity               14 non-null     object\n",
    " 10  rainfall               14 non-null     object\n",
    " 11  pressure               14 non-null     object\n",
    " 12  dayName                14 non-null     object\n",
    " 13  date                   14 non-null     object\n",
    " 14  reportTime             14 non-null     object\n",
    "dtypes: int64(1), object(14)\n",
    "memory usage: 1.8+ KB\n",
    "None\n",
    "\n"
   ]
  },
  {
   "cell_type": "markdown",
   "metadata": {},
   "source": [
    "## Index of commands used on the command line\n",
    "\n",
    " -  pwd : present working directory\n",
    " -  cd  : change directory\n",
    " -  ..  : move to parent folder\n",
    " -  ls  : list files in current folder\n",
    " -  ll  : long list in folder/directory\n",
    " -  clear: Clear screen\n",
    " -  rm   : remove files\n",
    " -  ren or rename: to rename files or folders. Type ren oldfilename newfilename\n",
    " -  >>   : redirects command to another file location. APPENDS FILE. Does not overwrite\n",
    " -  >    : **OVERWRITES FILE!** use with caution. Cannot be undone\n",
    " -  <    : Sends the contents of the file to the programme\n",
    " -  cat  : Concatenate. Read and display the contents of the file\n",
    " -  CTRL D : sends an end of file message\n",
    " -  CTRL C  : Kills the command\n",
    " -  |     : (vertical line) called pipe. used to pipe or transfer the output from the command on its left into the standard input of the command on its right\n",
    " -  grep  : looks for and matches text patterns within files\n",
    " -  free -h: tells how much free RAM is on the system and is human readable\n",
    " -  `      : (Backtick) this is used to embed commands into other commands\n",
    " -  touch  : create a single empty file \n",
    " -  wget   : used to retrieve files from the internet via HTTP, HTTPS and FTP protocols. Non interactive network downloader\n",
    " -  which  : type in a command and it tells the user where the file is.\n",
    " -  echo   : print command"
   ]
  },
  {
   "cell_type": "markdown",
   "metadata": {},
   "source": [
    "## References:\n",
    "\n",
    "https://github.com/ianmcloughlin/2425_computer_infrastructure\n",
    "\n",
    "https://www.ibm.com/docs/en/aix/7.3?topic=directories-creating-mkdir-command\n",
    "\n",
    "https://www.hostinger.com/tutorials/linux-commands?utm_campaign=Generic-Tutorials-DSA|NT:Se|LO:Other-EU&utm_medium=ppc&gad_source=1&gclid=Cj0KCQiAi_G5BhDXARIsAN5SX7oV8YyiZMWVi6Bm-P2IaQ6n6OCLxsFQ_EDxyvKcJ_trvSC-qPB9OHoaAqfmEALw_wcB\n",
    "\n",
    "https://www.geeksforgeeks.org/linux-commands-cheat-sheet/\n",
    "\n",
    "https://www.geeksforgeeks.org/wget-command-in-linux-unix/\n",
    "\n",
    "manual page for wget\n",
    "\n",
    "https://tecadmin.net/wget-download-files-to-specific-directory/\n"
   ]
  },
  {
   "cell_type": "markdown",
   "metadata": {},
   "source": [
    "### End"
   ]
  }
 ],
 "metadata": {
  "kernelspec": {
   "display_name": "Python 3",
   "language": "python",
   "name": "python3"
  },
  "language_info": {
   "codemirror_mode": {
    "name": "ipython",
    "version": 3
   },
   "file_extension": ".py",
   "mimetype": "text/x-python",
   "name": "python",
   "nbconvert_exporter": "python",
   "pygments_lexer": "ipython3",
   "version": "3.12.1"
  }
 },
 "nbformat": 4,
 "nbformat_minor": 2
}
