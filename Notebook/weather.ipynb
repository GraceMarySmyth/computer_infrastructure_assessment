{
 "cells": [
  {
   "cell_type": "markdown",
   "metadata": {},
   "source": [
    "### Weather Notebook\n",
    "\n",
    "This is the notebook for the assessment for Computer Infrastructure\n",
    "\n",
    "# Author: Grace Mary Smyth\n",
    "\n",
    "# Lecturer: Ian McLoughlin"
   ]
  },
  {
   "cell_type": "markdown",
   "metadata": {},
   "source": [
    "## Purpose\n",
    "The purpose of the assessment is for you to demonstrate ability in the following.\n",
    "\n",
    "Use, configure, and script in a command line interface environment.\n",
    "\n",
    "Manipulate and move data and code using the command line.\n",
    "\n",
    "Compare commonly available software infrastructures and architectures.\n",
    "\n",
    "Select appropriate infrastructure for a given computational task.\n",
    "\n",
    "The assessment consists of three overlapping parts: a GitHub repository containing all your work (20%), a series of tasks (40%), and a small project (40%).\n",
    "\n",
    "https://github.com/ianmcloughlin/2425_computer_infrastructure"
   ]
  },
  {
   "cell_type": "markdown",
   "metadata": {},
   "source": [
    "## Repository (20%)\n",
    "\n",
    "A repositry was created on Github called computer_infrastructure_assessment. This repositry contains all the elements that was requested by the assessment outline. \n",
    "\n",
    "I first included a .gitignore file. In this I included files to ignore. In this I added the python, macOS and windows gitignore from the gitignore templates on github. \n",
    "\n",
    "A README.md was added"
   ]
  },
  {
   "cell_type": "markdown",
   "metadata": {},
   "source": [
    "## Task 1\n",
    "A directory structure was creaded using the command line. A folder/directory called data was created. Inside data two sub directories were created: timestamps and weather. This was completed using the mkdir command on the command line"
   ]
  },
  {
   "cell_type": "markdown",
   "metadata": {},
   "source": [
    "## References:\n",
    "\n",
    "https://github.com/ianmcloughlin/2425_computer_infrastructure\n",
    "\n",
    "https://www.ibm.com/docs/en/aix/7.3?topic=directories-creating-mkdir-command"
   ]
  }
 ],
 "metadata": {
  "language_info": {
   "name": "python"
  }
 },
 "nbformat": 4,
 "nbformat_minor": 2
}
