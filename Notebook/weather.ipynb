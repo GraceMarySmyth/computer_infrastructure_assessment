{
 "cells": [
  {
   "cell_type": "markdown",
   "metadata": {},
   "source": [
    "### Weather Notebook\n",
    "\n",
    "This is the notebook for the assessment for Computer Infrastructure\n",
    "\n",
    "# Author: Grace Mary Smyth\n",
    "\n",
    "# Lecturer: Ian McLoughlin"
   ]
  },
  {
   "cell_type": "markdown",
   "metadata": {},
   "source": [
    "Purpose\n",
    "The purpose of the assessment is for you to demonstrate ability in the following.\n",
    "\n",
    "Use, configure, and script in a command line interface environment.\n",
    "\n",
    "Manipulate and move data and code using the command line.\n",
    "\n",
    "Compare commonly available software infrastructures and architectures.\n",
    "\n",
    "Select appropriate infrastructure for a given computational task.\n",
    "\n",
    "The assessment consists of three overlapping parts: a GitHub repository containing all your work (20%), a series of tasks (40%), and a small project (40%).\n",
    "\n",
    "https://github.com/ianmcloughlin/2425_computer_infrastructure"
   ]
  },
  {
   "cell_type": "markdown",
   "metadata": {},
   "source": [
    "## Repository (20%)\n",
    "\n",
    "A repositry was created on Github called computer_infrastructure_assessment. This repositry contains all the elements that was requested by the assessment outline. I first included a .gitignore file. In this I included files to ignore.  "
   ]
  },
  {
   "cell_type": "markdown",
   "metadata": {},
   "source": [
    "## References:\n",
    "\n",
    "https://github.com/ianmcloughlin/2425_computer_infrastructure"
   ]
  }
 ],
 "metadata": {
  "language_info": {
   "name": "python"
  }
 },
 "nbformat": 4,
 "nbformat_minor": 2
}
